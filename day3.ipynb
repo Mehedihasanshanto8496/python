{
 "cells": [
  {
   "cell_type": "code",
   "execution_count": 1,
   "id": "543bad97-18cb-4409-a63d-7235c04a1abd",
   "metadata": {},
   "outputs": [
    {
     "name": "stdout",
     "output_type": "stream",
     "text": [
      "hellow world, welcome to 60 days of paython\n"
     ]
    }
   ],
   "source": [
    " print('hellow world, welcome to 60 days of paython')\n"
   ]
  },
  {
   "cell_type": "code",
   "execution_count": 5,
   "id": "545d53e6-62db-4160-b66d-beb11859f1c0",
   "metadata": {},
   "outputs": [
    {
     "ename": "SyntaxError",
     "evalue": "invalid syntax. Perhaps you forgot a comma? (4142391005.py, line 1)",
     "output_type": "error",
     "traceback": [
      "\u001b[1;36m  Cell \u001b[1;32mIn[5], line 1\u001b[1;36m\u001b[0m\n\u001b[1;33m    print('hellow world, welcome to 60 days of paython'sep='&',)\u001b[0m\n\u001b[1;37m          ^\u001b[0m\n\u001b[1;31mSyntaxError\u001b[0m\u001b[1;31m:\u001b[0m invalid syntax. Perhaps you forgot a comma?\n"
     ]
    }
   ],
   "source": [
    "print('hellow world, welcome to 60 days of paython'sep='&',)\n"
   ]
  },
  {
   "cell_type": "code",
   "execution_count": null,
   "id": "499b93ee-2f1a-40b0-aa64-3b333e6c911c",
   "metadata": {},
   "outputs": [],
   "source": []
  }
 ],
 "metadata": {
  "kernelspec": {
   "display_name": "Python 3 (ipykernel)",
   "language": "python",
   "name": "python3"
  },
  "language_info": {
   "codemirror_mode": {
    "name": "ipython",
    "version": 3
   },
   "file_extension": ".py",
   "mimetype": "text/x-python",
   "name": "python",
   "nbconvert_exporter": "python",
   "pygments_lexer": "ipython3",
   "version": "3.13.5"
  }
 },
 "nbformat": 4,
 "nbformat_minor": 5
}
